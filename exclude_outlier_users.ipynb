{
 "cells": [
  {
   "cell_type": "markdown",
   "id": "7142118a",
   "metadata": {},
   "source": [
    "# Exclude Outlier Users\n",
    "\n",
    "This notebook filter out users who spent too little time or too much time on a specified course. Filtering is done using IQR."
   ]
  },
  {
   "cell_type": "markdown",
   "id": "8b3af0b3",
   "metadata": {},
   "source": [
    "# 1. Initialize paths and file names"
   ]
  },
  {
   "cell_type": "markdown",
   "id": "ab5e21b3",
   "metadata": {},
   "source": [
    "# 2. Load event data"
   ]
  },
  {
   "cell_type": "markdown",
   "id": "de181ad6",
   "metadata": {},
   "source": [
    "# 3. Save list of outlier users"
   ]
  }
 ],
 "metadata": {
  "language_info": {
   "name": "python"
  }
 },
 "nbformat": 4,
 "nbformat_minor": 5
}
