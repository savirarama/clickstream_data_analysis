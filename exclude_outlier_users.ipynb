{
 "cells": [
  {
   "cell_type": "markdown",
   "id": "7142118a",
   "metadata": {},
   "source": [
    "# Exclude Outlier Users\n",
    "\n",
    "This notebook filter out users who spent too little time or too much time on a specified course. Filtering is done using IQR."
   ]
  },
  {
   "cell_type": "markdown",
   "id": "8b3af0b3",
   "metadata": {},
   "source": [
    "# 1. Initialize paths and file names"
   ]
  },
  {
   "cell_type": "code",
   "execution_count": 1,
   "id": "10c0f475",
   "metadata": {},
   "outputs": [],
   "source": [
    "EVENT_DATA_FOLDER_PATH = 'course_data/EE101J/csv_event'\n",
    "OUTLIERS_FILE_PATH = 'course_data/EE101J/outliers.json'"
   ]
  },
  {
   "cell_type": "markdown",
   "id": "ab5e21b3",
   "metadata": {},
   "source": [
    "# 2. Load event data"
   ]
  },
  {
   "cell_type": "code",
   "execution_count": 2,
   "id": "c7ca598a",
   "metadata": {},
   "outputs": [
    {
     "name": "stderr",
     "output_type": "stream",
     "text": [
      "/var/folders/hq/mr_d9f8x11dfzc_f03z9xzbw0000gn/T/ipykernel_31586/1353764076.py:7: DtypeWarning: Columns (1,6) have mixed types. Specify dtype option on import or set low_memory=False.\n",
      "  event_data_df = pd.concat([pd.read_csv(file) for file in event_data_file_paths], ignore_index=True)\n"
     ]
    },
    {
     "name": "stdout",
     "output_type": "stream",
     "text": [
      "   Unnamed: 0                                  username  \\\n",
      "0       35873  0005de4615ec64cda7e99baee116cabe660793f1   \n",
      "1       35872  0005de4615ec64cda7e99baee116cabe660793f1   \n",
      "2       35871  0005de4615ec64cda7e99baee116cabe660793f1   \n",
      "3       35870  0005de4615ec64cda7e99baee116cabe660793f1   \n",
      "4       35869  0005de4615ec64cda7e99baee116cabe660793f1   \n",
      "\n",
      "                                          event_type  \\\n",
      "0                    edx.course.enrollment.activated   \n",
      "1  /api/courseware/course/course-v1:TokyoTechX+EE...   \n",
      "2  /courses/course-v1:TokyoTechX+EE101Jx+1T2021/x...   \n",
      "3  /api/discussion/v1/courses/course-v1:TokyoTech...   \n",
      "4  /courses/course-v1:TokyoTechX+EE101Jx+1T2021/x...   \n",
      "\n",
      "                               time event_source  \\\n",
      "0  2023-07-22T14:38:42.341829+00:00       server   \n",
      "1  2023-07-22T14:38:59.729191+00:00       server   \n",
      "2  2023-07-22T14:39:00.592172+00:00       server   \n",
      "3  2023-07-22T14:39:01.014682+00:00       server   \n",
      "4  2023-07-22T14:39:02.475764+00:00       server   \n",
      "\n",
      "                             course_id enrollment_mode  \n",
      "0  course-v1:TokyoTechX+EE101Jx+1T2021           audit  \n",
      "1  course-v1:TokyoTechX+EE101Jx+1T2021           audit  \n",
      "2  course-v1:TokyoTechX+EE101Jx+1T2021           audit  \n",
      "3  course-v1:TokyoTechX+EE101Jx+1T2021           audit  \n",
      "4  course-v1:TokyoTechX+EE101Jx+1T2021           audit  \n"
     ]
    }
   ],
   "source": [
    "import os\n",
    "import pandas as pd\n",
    "\n",
    "\n",
    "event_data_files = [f for f in os.listdir(EVENT_DATA_FOLDER_PATH) if f.endswith('.csv')]\n",
    "event_data_file_paths = [os.path.join(EVENT_DATA_FOLDER_PATH, f) for f in event_data_files]\n",
    "event_data_df = pd.concat([pd.read_csv(file) for file in event_data_file_paths], ignore_index=True)\n",
    "\n",
    "print(event_data_df.head(5))"
   ]
  },
  {
   "cell_type": "markdown",
   "id": "7200cdf3",
   "metadata": {},
   "source": [
    "### Calculate course duration"
   ]
  },
  {
   "cell_type": "code",
   "execution_count": 3,
   "id": "5652d3bd",
   "metadata": {},
   "outputs": [
    {
     "data": {
      "text/html": [
       "<div>\n",
       "<style scoped>\n",
       "    .dataframe tbody tr th:only-of-type {\n",
       "        vertical-align: middle;\n",
       "    }\n",
       "\n",
       "    .dataframe tbody tr th {\n",
       "        vertical-align: top;\n",
       "    }\n",
       "\n",
       "    .dataframe thead th {\n",
       "        text-align: right;\n",
       "    }\n",
       "</style>\n",
       "<table border=\"1\" class=\"dataframe\">\n",
       "  <thead>\n",
       "    <tr style=\"text-align: right;\">\n",
       "      <th></th>\n",
       "      <th>min</th>\n",
       "      <th>max</th>\n",
       "      <th>course_duration</th>\n",
       "    </tr>\n",
       "    <tr>\n",
       "      <th>username</th>\n",
       "      <th></th>\n",
       "      <th></th>\n",
       "      <th></th>\n",
       "    </tr>\n",
       "  </thead>\n",
       "  <tbody>\n",
       "    <tr>\n",
       "      <th>0005de4615ec64cda7e99baee116cabe660793f1</th>\n",
       "      <td>2023-07-22 14:38:42.341829+00:00</td>\n",
       "      <td>2023-07-22 14:48:11.464167+00:00</td>\n",
       "      <td>0 days 00:09:29.122338</td>\n",
       "    </tr>\n",
       "    <tr>\n",
       "      <th>000872107dd25789c69483a852b5e7e1b9585ccf</th>\n",
       "      <td>2022-05-31 06:51:46.751846+00:00</td>\n",
       "      <td>2022-05-31 14:25:21.134841+00:00</td>\n",
       "      <td>0 days 07:33:34.382995</td>\n",
       "    </tr>\n",
       "    <tr>\n",
       "      <th>0009315b4e3b01daecd17d82a74ed875a551b2b4</th>\n",
       "      <td>2022-11-09 00:24:34.445086+00:00</td>\n",
       "      <td>2022-11-09 00:24:34.445086+00:00</td>\n",
       "      <td>0 days 00:00:00</td>\n",
       "    </tr>\n",
       "    <tr>\n",
       "      <th>000ac6408d4ecbf008bdfb846cf43ea51d1a2f78</th>\n",
       "      <td>2022-04-10 00:02:02.188000+00:00</td>\n",
       "      <td>2022-09-06 00:42:29.811270+00:00</td>\n",
       "      <td>149 days 00:40:27.623270</td>\n",
       "    </tr>\n",
       "    <tr>\n",
       "      <th>000d139975b412c58ea9308aec381e290138f7e2</th>\n",
       "      <td>2023-02-12 18:01:04.516226+00:00</td>\n",
       "      <td>2023-02-12 18:02:25.990000+00:00</td>\n",
       "      <td>0 days 00:01:21.473774</td>\n",
       "    </tr>\n",
       "    <tr>\n",
       "      <th>...</th>\n",
       "      <td>...</td>\n",
       "      <td>...</td>\n",
       "      <td>...</td>\n",
       "    </tr>\n",
       "    <tr>\n",
       "      <th>ffe9b9e01e6ff3da21ae812fde35be593854e640</th>\n",
       "      <td>2022-01-22 19:56:04.365547+00:00</td>\n",
       "      <td>2022-01-22 19:59:45.782703+00:00</td>\n",
       "      <td>0 days 00:03:41.417156</td>\n",
       "    </tr>\n",
       "    <tr>\n",
       "      <th>ffe9d80f9491288361c480ef9feab465fc578e77</th>\n",
       "      <td>2022-06-23 09:31:38.692404+00:00</td>\n",
       "      <td>2022-06-26 21:30:23.202685+00:00</td>\n",
       "      <td>3 days 11:58:44.510281</td>\n",
       "    </tr>\n",
       "    <tr>\n",
       "      <th>fff2f7b2afa72cff8222120dd8cd07eab7528a75</th>\n",
       "      <td>2022-09-01 13:27:06.604277+00:00</td>\n",
       "      <td>2022-11-30 14:30:29.391242+00:00</td>\n",
       "      <td>90 days 01:03:22.786965</td>\n",
       "    </tr>\n",
       "    <tr>\n",
       "      <th>fffa7f234e502b8bbc968b4dac2bf950cd352f94</th>\n",
       "      <td>2023-05-25 06:51:43.397516+00:00</td>\n",
       "      <td>2023-05-26 04:57:02.513000+00:00</td>\n",
       "      <td>0 days 22:05:19.115484</td>\n",
       "    </tr>\n",
       "    <tr>\n",
       "      <th>fffcea6da2af167fef8e1bfbd383401a6be63c83</th>\n",
       "      <td>2022-12-20 14:29:08.313321+00:00</td>\n",
       "      <td>2022-12-20 14:31:25.322733+00:00</td>\n",
       "      <td>0 days 00:02:17.009412</td>\n",
       "    </tr>\n",
       "  </tbody>\n",
       "</table>\n",
       "<p>9121 rows × 3 columns</p>\n",
       "</div>"
      ],
      "text/plain": [
       "                                                                      min  \\\n",
       "username                                                                    \n",
       "0005de4615ec64cda7e99baee116cabe660793f1 2023-07-22 14:38:42.341829+00:00   \n",
       "000872107dd25789c69483a852b5e7e1b9585ccf 2022-05-31 06:51:46.751846+00:00   \n",
       "0009315b4e3b01daecd17d82a74ed875a551b2b4 2022-11-09 00:24:34.445086+00:00   \n",
       "000ac6408d4ecbf008bdfb846cf43ea51d1a2f78 2022-04-10 00:02:02.188000+00:00   \n",
       "000d139975b412c58ea9308aec381e290138f7e2 2023-02-12 18:01:04.516226+00:00   \n",
       "...                                                                   ...   \n",
       "ffe9b9e01e6ff3da21ae812fde35be593854e640 2022-01-22 19:56:04.365547+00:00   \n",
       "ffe9d80f9491288361c480ef9feab465fc578e77 2022-06-23 09:31:38.692404+00:00   \n",
       "fff2f7b2afa72cff8222120dd8cd07eab7528a75 2022-09-01 13:27:06.604277+00:00   \n",
       "fffa7f234e502b8bbc968b4dac2bf950cd352f94 2023-05-25 06:51:43.397516+00:00   \n",
       "fffcea6da2af167fef8e1bfbd383401a6be63c83 2022-12-20 14:29:08.313321+00:00   \n",
       "\n",
       "                                                                      max  \\\n",
       "username                                                                    \n",
       "0005de4615ec64cda7e99baee116cabe660793f1 2023-07-22 14:48:11.464167+00:00   \n",
       "000872107dd25789c69483a852b5e7e1b9585ccf 2022-05-31 14:25:21.134841+00:00   \n",
       "0009315b4e3b01daecd17d82a74ed875a551b2b4 2022-11-09 00:24:34.445086+00:00   \n",
       "000ac6408d4ecbf008bdfb846cf43ea51d1a2f78 2022-09-06 00:42:29.811270+00:00   \n",
       "000d139975b412c58ea9308aec381e290138f7e2 2023-02-12 18:02:25.990000+00:00   \n",
       "...                                                                   ...   \n",
       "ffe9b9e01e6ff3da21ae812fde35be593854e640 2022-01-22 19:59:45.782703+00:00   \n",
       "ffe9d80f9491288361c480ef9feab465fc578e77 2022-06-26 21:30:23.202685+00:00   \n",
       "fff2f7b2afa72cff8222120dd8cd07eab7528a75 2022-11-30 14:30:29.391242+00:00   \n",
       "fffa7f234e502b8bbc968b4dac2bf950cd352f94 2023-05-26 04:57:02.513000+00:00   \n",
       "fffcea6da2af167fef8e1bfbd383401a6be63c83 2022-12-20 14:31:25.322733+00:00   \n",
       "\n",
       "                                                  course_duration  \n",
       "username                                                           \n",
       "0005de4615ec64cda7e99baee116cabe660793f1   0 days 00:09:29.122338  \n",
       "000872107dd25789c69483a852b5e7e1b9585ccf   0 days 07:33:34.382995  \n",
       "0009315b4e3b01daecd17d82a74ed875a551b2b4          0 days 00:00:00  \n",
       "000ac6408d4ecbf008bdfb846cf43ea51d1a2f78 149 days 00:40:27.623270  \n",
       "000d139975b412c58ea9308aec381e290138f7e2   0 days 00:01:21.473774  \n",
       "...                                                           ...  \n",
       "ffe9b9e01e6ff3da21ae812fde35be593854e640   0 days 00:03:41.417156  \n",
       "ffe9d80f9491288361c480ef9feab465fc578e77   3 days 11:58:44.510281  \n",
       "fff2f7b2afa72cff8222120dd8cd07eab7528a75  90 days 01:03:22.786965  \n",
       "fffa7f234e502b8bbc968b4dac2bf950cd352f94   0 days 22:05:19.115484  \n",
       "fffcea6da2af167fef8e1bfbd383401a6be63c83   0 days 00:02:17.009412  \n",
       "\n",
       "[9121 rows x 3 columns]"
      ]
     },
     "execution_count": 3,
     "metadata": {},
     "output_type": "execute_result"
    }
   ],
   "source": [
    "event_data_df['time'] = pd.to_datetime(event_data_df['time'], utc=True, format='mixed')\n",
    "user_course_duration = event_data_df.groupby(['username'])['time'].agg(['min', 'max'])\n",
    "user_course_duration['course_duration'] = user_course_duration['max'] - user_course_duration['min']\n",
    "\n",
    "user_course_duration"
   ]
  },
  {
   "cell_type": "code",
   "execution_count": 4,
   "id": "eabd1f78",
   "metadata": {},
   "outputs": [
    {
     "data": {
      "text/html": [
       "<div>\n",
       "<style scoped>\n",
       "    .dataframe tbody tr th:only-of-type {\n",
       "        vertical-align: middle;\n",
       "    }\n",
       "\n",
       "    .dataframe tbody tr th {\n",
       "        vertical-align: top;\n",
       "    }\n",
       "\n",
       "    .dataframe thead th {\n",
       "        text-align: right;\n",
       "    }\n",
       "</style>\n",
       "<table border=\"1\" class=\"dataframe\">\n",
       "  <thead>\n",
       "    <tr style=\"text-align: right;\">\n",
       "      <th></th>\n",
       "      <th>username</th>\n",
       "      <th>course_duration</th>\n",
       "    </tr>\n",
       "  </thead>\n",
       "  <tbody>\n",
       "    <tr>\n",
       "      <th>0</th>\n",
       "      <td>0005de4615ec64cda7e99baee116cabe660793f1</td>\n",
       "      <td>0 days 00:09:29.122338</td>\n",
       "    </tr>\n",
       "    <tr>\n",
       "      <th>1</th>\n",
       "      <td>000872107dd25789c69483a852b5e7e1b9585ccf</td>\n",
       "      <td>0 days 07:33:34.382995</td>\n",
       "    </tr>\n",
       "    <tr>\n",
       "      <th>2</th>\n",
       "      <td>0009315b4e3b01daecd17d82a74ed875a551b2b4</td>\n",
       "      <td>0 days 00:00:00</td>\n",
       "    </tr>\n",
       "    <tr>\n",
       "      <th>3</th>\n",
       "      <td>000ac6408d4ecbf008bdfb846cf43ea51d1a2f78</td>\n",
       "      <td>149 days 00:40:27.623270</td>\n",
       "    </tr>\n",
       "    <tr>\n",
       "      <th>4</th>\n",
       "      <td>000d139975b412c58ea9308aec381e290138f7e2</td>\n",
       "      <td>0 days 00:01:21.473774</td>\n",
       "    </tr>\n",
       "    <tr>\n",
       "      <th>...</th>\n",
       "      <td>...</td>\n",
       "      <td>...</td>\n",
       "    </tr>\n",
       "    <tr>\n",
       "      <th>9116</th>\n",
       "      <td>ffe9b9e01e6ff3da21ae812fde35be593854e640</td>\n",
       "      <td>0 days 00:03:41.417156</td>\n",
       "    </tr>\n",
       "    <tr>\n",
       "      <th>9117</th>\n",
       "      <td>ffe9d80f9491288361c480ef9feab465fc578e77</td>\n",
       "      <td>3 days 11:58:44.510281</td>\n",
       "    </tr>\n",
       "    <tr>\n",
       "      <th>9118</th>\n",
       "      <td>fff2f7b2afa72cff8222120dd8cd07eab7528a75</td>\n",
       "      <td>90 days 01:03:22.786965</td>\n",
       "    </tr>\n",
       "    <tr>\n",
       "      <th>9119</th>\n",
       "      <td>fffa7f234e502b8bbc968b4dac2bf950cd352f94</td>\n",
       "      <td>0 days 22:05:19.115484</td>\n",
       "    </tr>\n",
       "    <tr>\n",
       "      <th>9120</th>\n",
       "      <td>fffcea6da2af167fef8e1bfbd383401a6be63c83</td>\n",
       "      <td>0 days 00:02:17.009412</td>\n",
       "    </tr>\n",
       "  </tbody>\n",
       "</table>\n",
       "<p>9121 rows × 2 columns</p>\n",
       "</div>"
      ],
      "text/plain": [
       "                                      username          course_duration\n",
       "0     0005de4615ec64cda7e99baee116cabe660793f1   0 days 00:09:29.122338\n",
       "1     000872107dd25789c69483a852b5e7e1b9585ccf   0 days 07:33:34.382995\n",
       "2     0009315b4e3b01daecd17d82a74ed875a551b2b4          0 days 00:00:00\n",
       "3     000ac6408d4ecbf008bdfb846cf43ea51d1a2f78 149 days 00:40:27.623270\n",
       "4     000d139975b412c58ea9308aec381e290138f7e2   0 days 00:01:21.473774\n",
       "...                                        ...                      ...\n",
       "9116  ffe9b9e01e6ff3da21ae812fde35be593854e640   0 days 00:03:41.417156\n",
       "9117  ffe9d80f9491288361c480ef9feab465fc578e77   3 days 11:58:44.510281\n",
       "9118  fff2f7b2afa72cff8222120dd8cd07eab7528a75  90 days 01:03:22.786965\n",
       "9119  fffa7f234e502b8bbc968b4dac2bf950cd352f94   0 days 22:05:19.115484\n",
       "9120  fffcea6da2af167fef8e1bfbd383401a6be63c83   0 days 00:02:17.009412\n",
       "\n",
       "[9121 rows x 2 columns]"
      ]
     },
     "execution_count": 4,
     "metadata": {},
     "output_type": "execute_result"
    }
   ],
   "source": [
    "result = user_course_duration[['course_duration']].reset_index()\n",
    "result"
   ]
  },
  {
   "cell_type": "code",
   "execution_count": 5,
   "id": "58951966",
   "metadata": {},
   "outputs": [
    {
     "data": {
      "text/plain": [
       "9121"
      ]
     },
     "execution_count": 5,
     "metadata": {},
     "output_type": "execute_result"
    }
   ],
   "source": [
    "#Initial number of users\n",
    "len(result)"
   ]
  },
  {
   "cell_type": "markdown",
   "id": "5637107d",
   "metadata": {},
   "source": [
    "### Filter out outliers using IQR"
   ]
  },
  {
   "cell_type": "code",
   "execution_count": 6,
   "id": "07da693f",
   "metadata": {},
   "outputs": [
    {
     "name": "stdout",
     "output_type": "stream",
     "text": [
      "Q1: 0 days 00:01:22.994014, Q3: 7 days 08:08:25.978253, IQR: 7 days 08:07:02.984239\n"
     ]
    }
   ],
   "source": [
    "# Calculate Q1 (25th percentile) and Q3 (75th percentile)\n",
    "Q1 = result['course_duration'].quantile(0.25)\n",
    "Q3 = result['course_duration'].quantile(0.75)\n",
    "IQR = Q3 - Q1\n",
    "print(f\"Q1: {Q1}, Q3: {Q3}, IQR: {IQR}\")\n",
    "\n",
    "# Define upper and lower bounds (typically 1.5 * IQR from Q1 and Q3)\n",
    "lower_bound = Q1 - 1.5 * IQR\n",
    "upper_bound = Q3 + 1.5 * IQR\n",
    "\n",
    "# Identify outliers\n",
    "outliers = result[(result['course_duration'] < lower_bound) | (result['course_duration'] > upper_bound)]\n"
   ]
  },
  {
   "cell_type": "code",
   "execution_count": 7,
   "id": "2ebc1552",
   "metadata": {},
   "outputs": [
    {
     "data": {
      "text/plain": [
       "1628"
      ]
     },
     "execution_count": 7,
     "metadata": {},
     "output_type": "execute_result"
    }
   ],
   "source": [
    "# Number of outlier users\n",
    "len(outliers)"
   ]
  },
  {
   "cell_type": "code",
   "execution_count": 8,
   "id": "5ef676c5",
   "metadata": {},
   "outputs": [
    {
     "data": {
      "text/html": [
       "<div>\n",
       "<style scoped>\n",
       "    .dataframe tbody tr th:only-of-type {\n",
       "        vertical-align: middle;\n",
       "    }\n",
       "\n",
       "    .dataframe tbody tr th {\n",
       "        vertical-align: top;\n",
       "    }\n",
       "\n",
       "    .dataframe thead th {\n",
       "        text-align: right;\n",
       "    }\n",
       "</style>\n",
       "<table border=\"1\" class=\"dataframe\">\n",
       "  <thead>\n",
       "    <tr style=\"text-align: right;\">\n",
       "      <th></th>\n",
       "      <th>username</th>\n",
       "      <th>course_duration</th>\n",
       "    </tr>\n",
       "  </thead>\n",
       "  <tbody>\n",
       "    <tr>\n",
       "      <th>3</th>\n",
       "      <td>000ac6408d4ecbf008bdfb846cf43ea51d1a2f78</td>\n",
       "      <td>149 days 00:40:27.623270</td>\n",
       "    </tr>\n",
       "    <tr>\n",
       "      <th>5</th>\n",
       "      <td>0022633f297898efdbe3b8b2fb58747dc3a6f42c</td>\n",
       "      <td>390 days 18:23:18.299518</td>\n",
       "    </tr>\n",
       "    <tr>\n",
       "      <th>8</th>\n",
       "      <td>0038cb908eeed43f9823b37ad54ca6db5cd80c57</td>\n",
       "      <td>48 days 14:40:36.807203</td>\n",
       "    </tr>\n",
       "    <tr>\n",
       "      <th>22</th>\n",
       "      <td>007a990e316d8d28bfac1c93a9a0be56c19ea4a3</td>\n",
       "      <td>703 days 13:33:15.387813</td>\n",
       "    </tr>\n",
       "    <tr>\n",
       "      <th>28</th>\n",
       "      <td>008b9e1039af087d106d7cf6ac24acddfeb1f6c2</td>\n",
       "      <td>159 days 10:58:12.935101</td>\n",
       "    </tr>\n",
       "  </tbody>\n",
       "</table>\n",
       "</div>"
      ],
      "text/plain": [
       "                                    username          course_duration\n",
       "3   000ac6408d4ecbf008bdfb846cf43ea51d1a2f78 149 days 00:40:27.623270\n",
       "5   0022633f297898efdbe3b8b2fb58747dc3a6f42c 390 days 18:23:18.299518\n",
       "8   0038cb908eeed43f9823b37ad54ca6db5cd80c57  48 days 14:40:36.807203\n",
       "22  007a990e316d8d28bfac1c93a9a0be56c19ea4a3 703 days 13:33:15.387813\n",
       "28  008b9e1039af087d106d7cf6ac24acddfeb1f6c2 159 days 10:58:12.935101"
      ]
     },
     "execution_count": 8,
     "metadata": {},
     "output_type": "execute_result"
    }
   ],
   "source": [
    "outliers.head(5)"
   ]
  },
  {
   "cell_type": "markdown",
   "id": "de181ad6",
   "metadata": {},
   "source": [
    "# 3. Save list of outlier users"
   ]
  },
  {
   "cell_type": "code",
   "execution_count": 9,
   "id": "c44a9112",
   "metadata": {},
   "outputs": [],
   "source": [
    "outliers['username'].to_json(OUTLIERS_FILE_PATH, orient='values', indent=2)\n"
   ]
  }
 ],
 "metadata": {
  "kernelspec": {
   "display_name": "venv",
   "language": "python",
   "name": "python3"
  },
  "language_info": {
   "codemirror_mode": {
    "name": "ipython",
    "version": 3
   },
   "file_extension": ".py",
   "mimetype": "text/x-python",
   "name": "python",
   "nbconvert_exporter": "python",
   "pygments_lexer": "ipython3",
   "version": "3.10.0"
  }
 },
 "nbformat": 4,
 "nbformat_minor": 5
}
